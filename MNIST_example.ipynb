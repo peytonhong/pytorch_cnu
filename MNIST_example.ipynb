{
 "cells": [
  {
   "cell_type": "code",
   "execution_count": 1,
   "metadata": {},
   "outputs": [],
   "source": [
    "import torch\n",
    "import torch.nn as nn\n",
    "import torch.nn.functional as F\n",
    "import torch.optim as optim\n",
    "from torchvision import datasets, transforms\n",
    "import matplotlib.pyplot as plt\n",
    "import numpy as np"
   ]
  },
  {
   "cell_type": "code",
   "execution_count": 2,
   "metadata": {},
   "outputs": [],
   "source": [
    "# 데이터셋 정의\n",
    "mnist_train = datasets.MNIST('./data', train=True, download=True, transform=transforms.Compose([\n",
    "                       transforms.ToTensor(),\n",
    "                       transforms.Normalize((0.1307,), (0.3081,))\n",
    "                   ]))\n",
    "mnist_test = datasets.MNIST('./data', train=False, transform=transforms.Compose([\n",
    "                       transforms.ToTensor(),\n",
    "                       transforms.Normalize((0.1307,), (0.3081,))\n",
    "                   ]))\n",
    "\n",
    "# 데이터셋을 DataLoader에 적용\n",
    "train_loader = torch.utils.data.DataLoader(dataset=mnist_train, batch_size=64, shuffle=True)\n",
    "test_loader = torch.utils.data.DataLoader(dataset=mnist_test, batch_size=1000, shuffle=True)\n"
   ]
  },
  {
   "cell_type": "code",
   "execution_count": 3,
   "metadata": {},
   "outputs": [
    {
     "name": "stdout",
     "output_type": "stream",
     "text": [
      "60000\n",
      "10000\n"
     ]
    }
   ],
   "source": [
    "print(len(mnist_train))\n",
    "print(len(mnist_test))"
   ]
  },
  {
   "cell_type": "code",
   "execution_count": 4,
   "metadata": {},
   "outputs": [
    {
     "name": "stdout",
     "output_type": "stream",
     "text": [
      "torch.Size([64, 1, 28, 28])\n",
      "torch.Size([64])\n"
     ]
    }
   ],
   "source": [
    "for data in train_loader:\n",
    "    print(data[0].shape) # images\n",
    "    print(data[1].shape) # labels\n",
    "    break\n"
   ]
  },
  {
   "cell_type": "code",
   "execution_count": 5,
   "metadata": {},
   "outputs": [
    {
     "name": "stdout",
     "output_type": "stream",
     "text": [
      "torch.Size([64, 1, 28, 28])\n",
      "torch.Size([64])\n"
     ]
    }
   ],
   "source": [
    "data = next(iter(train_loader))\n",
    "print(data[0].shape)\n",
    "print(data[1].shape)"
   ]
  },
  {
   "cell_type": "code",
   "execution_count": 6,
   "metadata": {},
   "outputs": [
    {
     "name": "stdout",
     "output_type": "stream",
     "text": [
      "torch.Size([1, 28, 28])\n",
      "torch.Size([28, 28, 1])\n",
      "label: 3\n"
     ]
    },
    {
     "data": {
      "image/png": "[encoded data removed]",
      "text/plain": [
       "<Figure size 432x288 with 1 Axes>"
      ]
     },
     "metadata": {
      "needs_background": "light"
     },
     "output_type": "display_data"
    }
   ],
   "source": [
    "index = 63\n",
    "img = data[0][index]\n",
    "print(img.shape)\n",
    "img = np.transpose(img, (1,2,0))\n",
    "print(img.shape)\n",
    "plt.imshow(img[:,:,0], cmap='gray')\n",
    "label = data[1][index]\n",
    "print(f'label: {label}')"
   ]
  },
  {
   "cell_type": "code",
   "execution_count": 7,
   "metadata": {},
   "outputs": [],
   "source": [
    "class MLP_Model(nn.Module):\n",
    "    def __init__(self):\n",
    "        super(MLP_Model, self).__init__()\n",
    "        self.fc1 = nn.Linear(784, 128)\n",
    "        self.fc2 = nn.Linear(128, 10)\n",
    "\n",
    "    def forward(self, x):\n",
    "        x = torch.flatten(x, 1) # [N,1,28,28] -> [N,728]로 변경시켜줌\n",
    "        x = self.fc1(x)\n",
    "        x = F.relu(x)\n",
    "        x = self.fc2(x)\n",
    "        output = F.log_softmax(x, dim=1)\n",
    "        return output"
   ]
  },
  {
   "cell_type": "code",
   "execution_count": 8,
   "metadata": {},
   "outputs": [],
   "source": [
    "class CNN_Model(nn.Module):\n",
    "    def __init__(self):\n",
    "        super(CNN_Model, self).__init__()\n",
    "        self.conv1 = nn.Conv2d(1, 32, 3, 1)\n",
    "        self.conv2 = nn.Conv2d(32, 64, 3, 1)\n",
    "        self.dropout1 = nn.Dropout2d(0.5)\n",
    "        self.fc1 = nn.Linear(9216, 128)\n",
    "        self.fc2 = nn.Linear(128, 10)\n",
    "\n",
    "    def forward(self, x):\n",
    "        x = self.conv1(x)\n",
    "        x = F.relu(x)\n",
    "        x = self.conv2(x)\n",
    "        x = F.max_pool2d(x, 2)\n",
    "        x = torch.flatten(x, 1)\n",
    "        x = self.fc1(x)\n",
    "        x = F.relu(x)\n",
    "        x = self.dropout1(x)\n",
    "        x = self.fc2(x)\n",
    "        output = F.log_softmax(x, dim=1)\n",
    "        return output"
   ]
  },
  {
   "cell_type": "code",
   "execution_count": 9,
   "metadata": {},
   "outputs": [],
   "source": [
    "# GPU 또는 CPU 사용을 위한 device 정의\n",
    "device = torch.device(\"cuda\" if torch.cuda.is_available() else \"cpu\")"
   ]
  },
  {
   "cell_type": "code",
   "execution_count": 10,
   "metadata": {},
   "outputs": [],
   "source": [
    "model = MLP_Model().to(device)\n",
    "# model = CNN_Model().to(device)\n",
    "optimizer = optim.Adam(model.parameters(), lr=0.001)"
   ]
  },
  {
   "cell_type": "code",
   "execution_count": 11,
   "metadata": {},
   "outputs": [],
   "source": [
    "def train(model, train_loader, optimizer, epoch):\n",
    "    model.train()\n",
    "    for batch_idx, data in enumerate(train_loader):\n",
    "        images, labels = data[0].to(device), data[1].to(device)\n",
    "        optimizer.zero_grad()\n",
    "        outputs = model(images)\n",
    "        loss = F.nll_loss(outputs, labels)\n",
    "        loss.backward()\n",
    "        optimizer.step()\n",
    "        if batch_idx % 100 == 0:\n",
    "            print('Train Epoch: {} [{:5d}/{} ({:.0f}%)]\\tLoss: {:.6f}'.format(\n",
    "                epoch, batch_idx * len(images), len(train_loader.dataset),\n",
    "                100. * batch_idx / len(train_loader), loss.item()))"
   ]
  },
  {
   "cell_type": "code",
   "execution_count": 12,
   "metadata": {},
   "outputs": [],
   "source": [
    "def test(model, test_loader):\n",
    "    model.eval()\n",
    "    test_loss = 0\n",
    "    correct = 0\n",
    "    with torch.no_grad():\n",
    "        for data in test_loader:\n",
    "            images, labels = data[0].to(device), data[1].to(device)\n",
    "            outputs = model(images)\n",
    "            test_loss += F.nll_loss(outputs, labels, reduction='sum').item()  # sum up batch loss\n",
    "            pred = outputs.argmax(dim=1, keepdim=True)  # get the index of the max log-probability\n",
    "            correct += pred.eq(labels.view_as(pred)).sum().item()\n",
    "\n",
    "    test_loss /= len(test_loader.dataset)\n",
    "\n",
    "    print('\\nTest set: Average loss: {:.4f}, Accuracy: {}/{} ({:.0f}%)\\n'.format(\n",
    "        test_loss, correct, len(test_loader.dataset),\n",
    "        100. * correct / len(test_loader.dataset)))"
   ]
  },
  {
   "cell_type": "code",
   "execution_count": 13,
   "metadata": {},
   "outputs": [
    {
     "name": "stdout",
     "output_type": "stream",
     "text": [
      "Train Epoch: 0 [    0/60000 (0%)]\tLoss: 2.294574\n",
      "Train Epoch: 0 [ 6400/60000 (11%)]\tLoss: 0.390962\n",
      "Train Epoch: 0 [12800/60000 (21%)]\tLoss: 0.138746\n",
      "Train Epoch: 0 [19200/60000 (32%)]\tLoss: 0.170658\n",
      "Train Epoch: 0 [25600/60000 (43%)]\tLoss: 0.262617\n",
      "Train Epoch: 0 [32000/60000 (53%)]\tLoss: 0.134838\n",
      "Train Epoch: 0 [38400/60000 (64%)]\tLoss: 0.137086\n",
      "Train Epoch: 0 [44800/60000 (75%)]\tLoss: 0.105469\n",
      "Train Epoch: 0 [51200/60000 (85%)]\tLoss: 0.055566\n",
      "Train Epoch: 0 [57600/60000 (96%)]\tLoss: 0.193355\n",
      "\n",
      "Test set: Average loss: 0.1383, Accuracy: 9593/10000 (96%)\n",
      "\n",
      "Train Epoch: 1 [    0/60000 (0%)]\tLoss: 0.095440\n",
      "Train Epoch: 1 [ 6400/60000 (11%)]\tLoss: 0.068852\n",
      "Train Epoch: 1 [12800/60000 (21%)]\tLoss: 0.126388\n",
      "Train Epoch: 1 [19200/60000 (32%)]\tLoss: 0.117814\n",
      "Train Epoch: 1 [25600/60000 (43%)]\tLoss: 0.074030\n",
      "Train Epoch: 1 [32000/60000 (53%)]\tLoss: 0.051980\n",
      "Train Epoch: 1 [38400/60000 (64%)]\tLoss: 0.040853\n",
      "Train Epoch: 1 [44800/60000 (75%)]\tLoss: 0.099497\n",
      "Train Epoch: 1 [51200/60000 (85%)]\tLoss: 0.113097\n",
      "Train Epoch: 1 [57600/60000 (96%)]\tLoss: 0.241984\n",
      "\n",
      "Test set: Average loss: 0.0999, Accuracy: 9705/10000 (97%)\n",
      "\n",
      "Train Epoch: 2 [    0/60000 (0%)]\tLoss: 0.067426\n",
      "Train Epoch: 2 [ 6400/60000 (11%)]\tLoss: 0.032445\n",
      "Train Epoch: 2 [12800/60000 (21%)]\tLoss: 0.038986\n",
      "Train Epoch: 2 [19200/60000 (32%)]\tLoss: 0.128076\n",
      "Train Epoch: 2 [25600/60000 (43%)]\tLoss: 0.081021\n",
      "Train Epoch: 2 [32000/60000 (53%)]\tLoss: 0.095424\n",
      "Train Epoch: 2 [38400/60000 (64%)]\tLoss: 0.040574\n",
      "Train Epoch: 2 [44800/60000 (75%)]\tLoss: 0.066170\n",
      "Train Epoch: 2 [51200/60000 (85%)]\tLoss: 0.154293\n",
      "Train Epoch: 2 [57600/60000 (96%)]\tLoss: 0.107833\n",
      "\n",
      "Test set: Average loss: 0.0797, Accuracy: 9751/10000 (98%)\n",
      "\n",
      "Train Epoch: 3 [    0/60000 (0%)]\tLoss: 0.023761\n",
      "Train Epoch: 3 [ 6400/60000 (11%)]\tLoss: 0.028111\n",
      "Train Epoch: 3 [12800/60000 (21%)]\tLoss: 0.117014\n",
      "Train Epoch: 3 [19200/60000 (32%)]\tLoss: 0.042995\n",
      "Train Epoch: 3 [25600/60000 (43%)]\tLoss: 0.007045\n",
      "Train Epoch: 3 [32000/60000 (53%)]\tLoss: 0.050552\n",
      "Train Epoch: 3 [38400/60000 (64%)]\tLoss: 0.077605\n",
      "Train Epoch: 3 [44800/60000 (75%)]\tLoss: 0.052783\n",
      "Train Epoch: 3 [51200/60000 (85%)]\tLoss: 0.008054\n",
      "Train Epoch: 3 [57600/60000 (96%)]\tLoss: 0.020128\n",
      "\n",
      "Test set: Average loss: 0.0899, Accuracy: 9729/10000 (97%)\n",
      "\n",
      "Train Epoch: 4 [    0/60000 (0%)]\tLoss: 0.009337\n",
      "Train Epoch: 4 [ 6400/60000 (11%)]\tLoss: 0.097760\n",
      "Train Epoch: 4 [12800/60000 (21%)]\tLoss: 0.033228\n",
      "Train Epoch: 4 [19200/60000 (32%)]\tLoss: 0.013143\n",
      "Train Epoch: 4 [25600/60000 (43%)]\tLoss: 0.021430\n",
      "Train Epoch: 4 [32000/60000 (53%)]\tLoss: 0.134445\n",
      "Train Epoch: 4 [38400/60000 (64%)]\tLoss: 0.071132\n",
      "Train Epoch: 4 [44800/60000 (75%)]\tLoss: 0.082598\n",
      "Train Epoch: 4 [51200/60000 (85%)]\tLoss: 0.028549\n",
      "Train Epoch: 4 [57600/60000 (96%)]\tLoss: 0.027749\n",
      "\n",
      "Test set: Average loss: 0.0856, Accuracy: 9732/10000 (97%)\n",
      "\n",
      "Train Epoch: 5 [    0/60000 (0%)]\tLoss: 0.008538\n",
      "Train Epoch: 5 [ 6400/60000 (11%)]\tLoss: 0.007956\n",
      "Train Epoch: 5 [12800/60000 (21%)]\tLoss: 0.010122\n",
      "Train Epoch: 5 [19200/60000 (32%)]\tLoss: 0.045101\n",
      "Train Epoch: 5 [25600/60000 (43%)]\tLoss: 0.006229\n",
      "Train Epoch: 5 [32000/60000 (53%)]\tLoss: 0.105306\n",
      "Train Epoch: 5 [38400/60000 (64%)]\tLoss: 0.019922\n",
      "Train Epoch: 5 [44800/60000 (75%)]\tLoss: 0.067959\n",
      "Train Epoch: 5 [51200/60000 (85%)]\tLoss: 0.023335\n",
      "Train Epoch: 5 [57600/60000 (96%)]\tLoss: 0.003778\n",
      "\n",
      "Test set: Average loss: 0.0898, Accuracy: 9748/10000 (97%)\n",
      "\n",
      "Train Epoch: 6 [    0/60000 (0%)]\tLoss: 0.044227\n",
      "Train Epoch: 6 [ 6400/60000 (11%)]\tLoss: 0.053915\n",
      "Train Epoch: 6 [12800/60000 (21%)]\tLoss: 0.005290\n",
      "Train Epoch: 6 [19200/60000 (32%)]\tLoss: 0.004928\n",
      "Train Epoch: 6 [25600/60000 (43%)]\tLoss: 0.003608\n",
      "Train Epoch: 6 [32000/60000 (53%)]\tLoss: 0.027046\n",
      "Train Epoch: 6 [38400/60000 (64%)]\tLoss: 0.015624\n",
      "Train Epoch: 6 [44800/60000 (75%)]\tLoss: 0.038362\n",
      "Train Epoch: 6 [51200/60000 (85%)]\tLoss: 0.024590\n",
      "Train Epoch: 6 [57600/60000 (96%)]\tLoss: 0.004217\n",
      "\n",
      "Test set: Average loss: 0.0819, Accuracy: 9764/10000 (98%)\n",
      "\n",
      "Train Epoch: 7 [    0/60000 (0%)]\tLoss: 0.005353\n",
      "Train Epoch: 7 [ 6400/60000 (11%)]\tLoss: 0.013132\n",
      "Train Epoch: 7 [12800/60000 (21%)]\tLoss: 0.006360\n",
      "Train Epoch: 7 [19200/60000 (32%)]\tLoss: 0.017845\n",
      "Train Epoch: 7 [25600/60000 (43%)]\tLoss: 0.025205\n",
      "Train Epoch: 7 [32000/60000 (53%)]\tLoss: 0.014527\n",
      "Train Epoch: 7 [38400/60000 (64%)]\tLoss: 0.004408\n",
      "Train Epoch: 7 [44800/60000 (75%)]\tLoss: 0.065138\n",
      "Train Epoch: 7 [51200/60000 (85%)]\tLoss: 0.047334\n",
      "Train Epoch: 7 [57600/60000 (96%)]\tLoss: 0.003710\n",
      "\n",
      "Test set: Average loss: 0.0837, Accuracy: 9771/10000 (98%)\n",
      "\n",
      "Train Epoch: 8 [    0/60000 (0%)]\tLoss: 0.004347\n",
      "Train Epoch: 8 [ 6400/60000 (11%)]\tLoss: 0.015668\n",
      "Train Epoch: 8 [12800/60000 (21%)]\tLoss: 0.015015\n",
      "Train Epoch: 8 [19200/60000 (32%)]\tLoss: 0.063899\n",
      "Train Epoch: 8 [25600/60000 (43%)]\tLoss: 0.009529\n",
      "Train Epoch: 8 [32000/60000 (53%)]\tLoss: 0.012075\n",
      "Train Epoch: 8 [38400/60000 (64%)]\tLoss: 0.029642\n",
      "Train Epoch: 8 [44800/60000 (75%)]\tLoss: 0.005360\n",
      "Train Epoch: 8 [51200/60000 (85%)]\tLoss: 0.001275\n",
      "Train Epoch: 8 [57600/60000 (96%)]\tLoss: 0.119954\n",
      "\n",
      "Test set: Average loss: 0.0839, Accuracy: 9759/10000 (98%)\n",
      "\n",
      "Train Epoch: 9 [    0/60000 (0%)]\tLoss: 0.021478\n",
      "Train Epoch: 9 [ 6400/60000 (11%)]\tLoss: 0.004716\n",
      "Train Epoch: 9 [12800/60000 (21%)]\tLoss: 0.002561\n",
      "Train Epoch: 9 [19200/60000 (32%)]\tLoss: 0.018538\n",
      "Train Epoch: 9 [25600/60000 (43%)]\tLoss: 0.006124\n",
      "Train Epoch: 9 [32000/60000 (53%)]\tLoss: 0.054646\n",
      "Train Epoch: 9 [38400/60000 (64%)]\tLoss: 0.024626\n",
      "Train Epoch: 9 [44800/60000 (75%)]\tLoss: 0.019950\n",
      "Train Epoch: 9 [51200/60000 (85%)]\tLoss: 0.030066\n",
      "Train Epoch: 9 [57600/60000 (96%)]\tLoss: 0.005227\n",
      "\n",
      "Test set: Average loss: 0.0907, Accuracy: 9768/10000 (98%)\n",
      "\n"
     ]
    }
   ],
   "source": [
    "for epoch in range(10):\n",
    "    train(model, train_loader, optimizer, epoch)\n",
    "    test(model, test_loader)"
   ]
  },
  {
   "cell_type": "code",
   "execution_count": null,
   "metadata": {},
   "outputs": [],
   "source": []
  }
 ],
 "metadata": {
  "kernelspec": {
   "display_name": "Python 3",
   "language": "python",
   "name": "python3"
  },
  "language_info": {
   "codemirror_mode": {
    "name": "ipython",
    "version": 3
   },
   "file_extension": ".py",
   "mimetype": "text/x-python",
   "name": "python",
   "nbconvert_exporter": "python",
   "pygments_lexer": "ipython3",
   "version": "3.7.5"
  }
 },
 "nbformat": 4,
 "nbformat_minor": 2
}
